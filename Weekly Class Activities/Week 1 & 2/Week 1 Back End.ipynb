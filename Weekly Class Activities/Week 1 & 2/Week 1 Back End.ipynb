{
 "cells": [
  {
   "cell_type": "markdown",
   "metadata": {},
   "source": [
    "# Importing Flask and Relevant Functions"
   ]
  },
  {
   "cell_type": "code",
   "execution_count": 1,
   "metadata": {},
   "outputs": [],
   "source": [
    "#If not already installed\n",
    "#pip install flask\n",
    "from flask import Flask, request, render_template"
   ]
  },
  {
   "cell_type": "code",
   "execution_count": 2,
   "metadata": {},
   "outputs": [
    {
     "name": "stdout",
     "output_type": "stream",
     "text": [
      " * Serving Flask app \"__main__\" (lazy loading)\n",
      " * Environment: production\n",
      "\u001b[31m   WARNING: This is a development server. Do not use it in a production deployment.\u001b[0m\n",
      "\u001b[2m   Use a production WSGI server instead.\u001b[0m\n",
      " * Debug mode: off\n"
     ]
    },
    {
     "name": "stderr",
     "output_type": "stream",
     "text": [
      " * Running on http://127.0.0.1:5000/ (Press CTRL+C to quit)\n",
      "127.0.0.1 - - [21/Aug/2024 14:45:08] \"GET / HTTP/1.1\" 200 -\n",
      "127.0.0.1 - - [21/Aug/2024 14:45:09] \"GET /favicon.ico HTTP/1.1\" 404 -\n",
      "127.0.0.1 - - [21/Aug/2024 14:45:14] \"POST / HTTP/1.1\" 200 -\n",
      "127.0.0.1 - - [21/Aug/2024 14:45:18] \"POST / HTTP/1.1\" 200 -\n",
      "127.0.0.1 - - [21/Aug/2024 14:45:21] \"POST / HTTP/1.1\" 200 -\n",
      "127.0.0.1 - - [21/Aug/2024 14:45:25] \"POST / HTTP/1.1\" 200 -\n"
     ]
    }
   ],
   "source": [
    "app = Flask(__name__) #__ is a way of confirming file belongs to us\n",
    "\n",
    "@app.route(\"/\", methods = [\"GET\", \"POST\"]) #What is the difference between GET and POST? GET = Retrieve from FE; POST = Push to FE\n",
    "\n",
    "def index():\n",
    "    if request.method == \"POST\":\n",
    "        num = float(request.form.get(\"rates\"))\n",
    "        return(render_template(\"Week 1 Front End.html\", result = 90.2-(50.6*num)))\n",
    "    else:\n",
    "        return(render_template(\"Week 1 Front End.html\", result = \"Waiting......\"))\n",
    "\n",
    "if __name__ == \"__main__\":\n",
    "    app.run()\n"
   ]
  }
 ],
 "metadata": {
  "kernelspec": {
   "display_name": "base",
   "language": "python",
   "name": "python3"
  },
  "language_info": {
   "codemirror_mode": {
    "name": "ipython",
    "version": 3
   },
   "file_extension": ".py",
   "mimetype": "text/x-python",
   "name": "python",
   "nbconvert_exporter": "python",
   "pygments_lexer": "ipython3",
   "version": "3.9.7"
  }
 },
 "nbformat": 4,
 "nbformat_minor": 2
}
